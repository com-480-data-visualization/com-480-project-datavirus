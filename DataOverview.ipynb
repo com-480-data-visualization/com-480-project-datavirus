{
 "cells": [
  {
   "cell_type": "code",
   "execution_count": 2,
   "metadata": {},
   "outputs": [],
   "source": [
    "import matplotlib.pyplot as plt\n",
    "import pandas as pd\n",
    "import numpy as np\n",
    "pd.options.mode.chained_assignment = None "
   ]
  },
  {
   "cell_type": "markdown",
   "metadata": {},
   "source": [
    "# How does the dataset looks like ? "
   ]
  },
  {
   "cell_type": "code",
   "execution_count": 3,
   "metadata": {},
   "outputs": [
    {
     "data": {
      "text/html": [
       "<div>\n",
       "<style scoped>\n",
       "    .dataframe tbody tr th:only-of-type {\n",
       "        vertical-align: middle;\n",
       "    }\n",
       "\n",
       "    .dataframe tbody tr th {\n",
       "        vertical-align: top;\n",
       "    }\n",
       "\n",
       "    .dataframe thead th {\n",
       "        text-align: right;\n",
       "    }\n",
       "</style>\n",
       "<table border=\"1\" class=\"dataframe\">\n",
       "  <thead>\n",
       "    <tr style=\"text-align: right;\">\n",
       "      <th></th>\n",
       "      <th>categories</th>\n",
       "      <th>channel_id</th>\n",
       "      <th>dislike_count</th>\n",
       "      <th>display_id</th>\n",
       "      <th>duration</th>\n",
       "      <th>like_count</th>\n",
       "      <th>upload_date</th>\n",
       "      <th>view_count</th>\n",
       "      <th>categories_raw</th>\n",
       "      <th>top5p_cat</th>\n",
       "      <th>top1p_cat</th>\n",
       "      <th>is_invalid</th>\n",
       "      <th>top5p</th>\n",
       "      <th>top1p</th>\n",
       "    </tr>\n",
       "  </thead>\n",
       "  <tbody>\n",
       "    <tr>\n",
       "      <td>0</td>\n",
       "      <td>Music</td>\n",
       "      <td>UCsv6iJMuTZc8-zs3V2Z9B6w</td>\n",
       "      <td>0</td>\n",
       "      <td>uKGGM22X8Qs</td>\n",
       "      <td>429</td>\n",
       "      <td>4</td>\n",
       "      <td>2019-09-12</td>\n",
       "      <td>194</td>\n",
       "      <td>Music</td>\n",
       "      <td>False</td>\n",
       "      <td>False</td>\n",
       "      <td>False</td>\n",
       "      <td>False</td>\n",
       "      <td>False</td>\n",
       "    </tr>\n",
       "    <tr>\n",
       "      <td>1</td>\n",
       "      <td>Music</td>\n",
       "      <td>UCsv6iJMuTZc8-zs3V2Z9B6w</td>\n",
       "      <td>11</td>\n",
       "      <td>jzBaT9_h0aw</td>\n",
       "      <td>377</td>\n",
       "      <td>44</td>\n",
       "      <td>2019-06-20</td>\n",
       "      <td>2668</td>\n",
       "      <td>Music</td>\n",
       "      <td>False</td>\n",
       "      <td>False</td>\n",
       "      <td>False</td>\n",
       "      <td>False</td>\n",
       "      <td>False</td>\n",
       "    </tr>\n",
       "    <tr>\n",
       "      <td>2</td>\n",
       "      <td>Music</td>\n",
       "      <td>UCsv6iJMuTZc8-zs3V2Z9B6w</td>\n",
       "      <td>6</td>\n",
       "      <td>giozLk4q51A</td>\n",
       "      <td>295</td>\n",
       "      <td>66</td>\n",
       "      <td>2019-05-02</td>\n",
       "      <td>4350</td>\n",
       "      <td>Music</td>\n",
       "      <td>False</td>\n",
       "      <td>False</td>\n",
       "      <td>False</td>\n",
       "      <td>False</td>\n",
       "      <td>False</td>\n",
       "    </tr>\n",
       "    <tr>\n",
       "      <td>3</td>\n",
       "      <td>Music</td>\n",
       "      <td>UCsv6iJMuTZc8-zs3V2Z9B6w</td>\n",
       "      <td>0</td>\n",
       "      <td>df4qDGsSDdg</td>\n",
       "      <td>338</td>\n",
       "      <td>5</td>\n",
       "      <td>2018-03-04</td>\n",
       "      <td>138</td>\n",
       "      <td>Music</td>\n",
       "      <td>False</td>\n",
       "      <td>False</td>\n",
       "      <td>False</td>\n",
       "      <td>False</td>\n",
       "      <td>False</td>\n",
       "    </tr>\n",
       "    <tr>\n",
       "      <td>4</td>\n",
       "      <td>Music</td>\n",
       "      <td>UCsv6iJMuTZc8-zs3V2Z9B6w</td>\n",
       "      <td>0</td>\n",
       "      <td>MNW-OvHFibs</td>\n",
       "      <td>334</td>\n",
       "      <td>9</td>\n",
       "      <td>2018-03-04</td>\n",
       "      <td>329</td>\n",
       "      <td>Music</td>\n",
       "      <td>False</td>\n",
       "      <td>False</td>\n",
       "      <td>False</td>\n",
       "      <td>False</td>\n",
       "      <td>False</td>\n",
       "    </tr>\n",
       "  </tbody>\n",
       "</table>\n",
       "</div>"
      ],
      "text/plain": [
       "  categories                channel_id  dislike_count   display_id  duration  \\\n",
       "0      Music  UCsv6iJMuTZc8-zs3V2Z9B6w              0  uKGGM22X8Qs       429   \n",
       "1      Music  UCsv6iJMuTZc8-zs3V2Z9B6w             11  jzBaT9_h0aw       377   \n",
       "2      Music  UCsv6iJMuTZc8-zs3V2Z9B6w              6  giozLk4q51A       295   \n",
       "3      Music  UCsv6iJMuTZc8-zs3V2Z9B6w              0  df4qDGsSDdg       338   \n",
       "4      Music  UCsv6iJMuTZc8-zs3V2Z9B6w              0  MNW-OvHFibs       334   \n",
       "\n",
       "   like_count upload_date  view_count categories_raw  top5p_cat  top1p_cat  \\\n",
       "0           4  2019-09-12         194          Music      False      False   \n",
       "1          44  2019-06-20        2668          Music      False      False   \n",
       "2          66  2019-05-02        4350          Music      False      False   \n",
       "3           5  2018-03-04         138          Music      False      False   \n",
       "4           9  2018-03-04         329          Music      False      False   \n",
       "\n",
       "   is_invalid  top5p  top1p  \n",
       "0       False  False  False  \n",
       "1       False  False  False  \n",
       "2       False  False  False  \n",
       "3       False  False  False  \n",
       "4       False  False  False  "
      ]
     },
     "execution_count": 3,
     "metadata": {},
     "output_type": "execute_result"
    }
   ],
   "source": [
    "youtube_df = pd.read_feather(\"youtube_big.feather\")\n",
    "youtube_df.head()"
   ]
  },
  {
   "cell_type": "code",
   "execution_count": 4,
   "metadata": {},
   "outputs": [
    {
     "data": {
      "text/plain": [
       "categories        69974760\n",
       "channel_id        69974760\n",
       "dislike_count     69974760\n",
       "display_id        69974760\n",
       "duration          69974760\n",
       "like_count        69974760\n",
       "upload_date       69974760\n",
       "view_count        69974760\n",
       "categories_raw    69974760\n",
       "top5p_cat         69974760\n",
       "top1p_cat         69974760\n",
       "is_invalid        69974760\n",
       "top5p             69974760\n",
       "top1p             69974760\n",
       "dtype: int64"
      ]
     },
     "execution_count": 4,
     "metadata": {},
     "output_type": "execute_result"
    }
   ],
   "source": [
    "youtube_df.count()"
   ]
  },
  {
   "cell_type": "markdown",
   "metadata": {},
   "source": [
    "**So we have about 70mio of lines with no null values**"
   ]
  },
  {
   "cell_type": "markdown",
   "metadata": {},
   "source": [
    "## What are the categories ? "
   ]
  },
  {
   "cell_type": "code",
   "execution_count": 56,
   "metadata": {},
   "outputs": [
    {
     "data": {
      "text/html": [
       "<div>\n",
       "<style scoped>\n",
       "    .dataframe tbody tr th:only-of-type {\n",
       "        vertical-align: middle;\n",
       "    }\n",
       "\n",
       "    .dataframe tbody tr th {\n",
       "        vertical-align: top;\n",
       "    }\n",
       "\n",
       "    .dataframe thead th {\n",
       "        text-align: right;\n",
       "    }\n",
       "</style>\n",
       "<table border=\"1\" class=\"dataframe\">\n",
       "  <thead>\n",
       "    <tr style=\"text-align: right;\">\n",
       "      <th></th>\n",
       "      <th>nb_of_video_per_categories</th>\n",
       "    </tr>\n",
       "    <tr>\n",
       "      <th>categories</th>\n",
       "      <th></th>\n",
       "    </tr>\n",
       "  </thead>\n",
       "  <tbody>\n",
       "    <tr>\n",
       "      <td>Entertainment</td>\n",
       "      <td>19917134</td>\n",
       "    </tr>\n",
       "    <tr>\n",
       "      <td>Gaming</td>\n",
       "      <td>12686630</td>\n",
       "    </tr>\n",
       "    <tr>\n",
       "      <td>Others</td>\n",
       "      <td>10593566</td>\n",
       "    </tr>\n",
       "    <tr>\n",
       "      <td>News &amp; Politics</td>\n",
       "      <td>9026408</td>\n",
       "    </tr>\n",
       "    <tr>\n",
       "      <td>Music</td>\n",
       "      <td>8237064</td>\n",
       "    </tr>\n",
       "    <tr>\n",
       "      <td>Education, Science &amp; Tech</td>\n",
       "      <td>5891804</td>\n",
       "    </tr>\n",
       "    <tr>\n",
       "      <td>Howto &amp; Style</td>\n",
       "      <td>3621165</td>\n",
       "    </tr>\n",
       "    <tr>\n",
       "      <td></td>\n",
       "      <td>989</td>\n",
       "    </tr>\n",
       "  </tbody>\n",
       "</table>\n",
       "</div>"
      ],
      "text/plain": [
       "                           nb_of_video_per_categories\n",
       "categories                                           \n",
       "Entertainment                                19917134\n",
       "Gaming                                       12686630\n",
       "Others                                       10593566\n",
       "News & Politics                               9026408\n",
       "Music                                         8237064\n",
       "Education, Science & Tech                     5891804\n",
       "Howto & Style                                 3621165\n",
       "                                                  989"
      ]
     },
     "execution_count": 56,
     "metadata": {},
     "output_type": "execute_result"
    }
   ],
   "source": [
    "categoriesCount = youtube_df[['categories','channel_id']].groupby('categories').count()\n",
    "categoriesCount.columns = ['nb_of_video_per_categories']\n",
    "categoriesCount.sort_values(by=['nb_of_video_per_categories'],ascending=False)"
   ]
  },
  {
   "cell_type": "markdown",
   "metadata": {},
   "source": [
    "## What are categories_raw ? "
   ]
  },
  {
   "cell_type": "code",
   "execution_count": 35,
   "metadata": {},
   "outputs": [
    {
     "data": {
      "text/html": [
       "<div>\n",
       "<style scoped>\n",
       "    .dataframe tbody tr th:only-of-type {\n",
       "        vertical-align: middle;\n",
       "    }\n",
       "\n",
       "    .dataframe tbody tr th {\n",
       "        vertical-align: top;\n",
       "    }\n",
       "\n",
       "    .dataframe thead th {\n",
       "        text-align: right;\n",
       "    }\n",
       "</style>\n",
       "<table border=\"1\" class=\"dataframe\">\n",
       "  <thead>\n",
       "    <tr style=\"text-align: right;\">\n",
       "      <th></th>\n",
       "      <th>count</th>\n",
       "    </tr>\n",
       "    <tr>\n",
       "      <th>categories_raw</th>\n",
       "      <th></th>\n",
       "    </tr>\n",
       "  </thead>\n",
       "  <tbody>\n",
       "    <tr>\n",
       "      <td></td>\n",
       "      <td>989</td>\n",
       "    </tr>\n",
       "    <tr>\n",
       "      <td>Education, Science &amp; Tech</td>\n",
       "      <td>5891804</td>\n",
       "    </tr>\n",
       "    <tr>\n",
       "      <td>Entertainment</td>\n",
       "      <td>19917134</td>\n",
       "    </tr>\n",
       "    <tr>\n",
       "      <td>Gaming</td>\n",
       "      <td>12686630</td>\n",
       "    </tr>\n",
       "    <tr>\n",
       "      <td>Howto &amp; Style</td>\n",
       "      <td>3621165</td>\n",
       "    </tr>\n",
       "    <tr>\n",
       "      <td>Music</td>\n",
       "      <td>8237064</td>\n",
       "    </tr>\n",
       "    <tr>\n",
       "      <td>News &amp; Politics</td>\n",
       "      <td>9026408</td>\n",
       "    </tr>\n",
       "    <tr>\n",
       "      <td>Others</td>\n",
       "      <td>10593566</td>\n",
       "    </tr>\n",
       "  </tbody>\n",
       "</table>\n",
       "</div>"
      ],
      "text/plain": [
       "                              count\n",
       "categories_raw                     \n",
       "                                989\n",
       "Education, Science & Tech   5891804\n",
       "Entertainment              19917134\n",
       "Gaming                     12686630\n",
       "Howto & Style               3621165\n",
       "Music                       8237064\n",
       "News & Politics             9026408\n",
       "Others                     10593566"
      ]
     },
     "execution_count": 35,
     "metadata": {},
     "output_type": "execute_result"
    }
   ],
   "source": [
    "categoriesRawCount = youtube_df[['categories_raw','channel_id']].groupby('categories_raw').count()\n",
    "categoriesRawCount.columns = ['count']\n",
    "categoriesRawCount"
   ]
  },
  {
   "cell_type": "markdown",
   "metadata": {},
   "source": [
    "Seems to be exactly the same than the column \"categories\"..."
   ]
  },
  {
   "cell_type": "markdown",
   "metadata": {},
   "source": [
    "## Are the display_id really unique ? "
   ]
  },
  {
   "cell_type": "code",
   "execution_count": 31,
   "metadata": {},
   "outputs": [
    {
     "data": {
      "text/html": [
       "<div>\n",
       "<style scoped>\n",
       "    .dataframe tbody tr th:only-of-type {\n",
       "        vertical-align: middle;\n",
       "    }\n",
       "\n",
       "    .dataframe tbody tr th {\n",
       "        vertical-align: top;\n",
       "    }\n",
       "\n",
       "    .dataframe thead th {\n",
       "        text-align: right;\n",
       "    }\n",
       "</style>\n",
       "<table border=\"1\" class=\"dataframe\">\n",
       "  <thead>\n",
       "    <tr style=\"text-align: right;\">\n",
       "      <th></th>\n",
       "      <th>display_id</th>\n",
       "    </tr>\n",
       "  </thead>\n",
       "  <tbody>\n",
       "    <tr>\n",
       "      <td>250</td>\n",
       "      <td>XOmPr1feFHU</td>\n",
       "    </tr>\n",
       "    <tr>\n",
       "      <td>251</td>\n",
       "      <td>1bgkJ52aU5w</td>\n",
       "    </tr>\n",
       "    <tr>\n",
       "      <td>585</td>\n",
       "      <td>bf58l61iUSs</td>\n",
       "    </tr>\n",
       "    <tr>\n",
       "      <td>622</td>\n",
       "      <td>29pOl5Y5Ycc</td>\n",
       "    </tr>\n",
       "    <tr>\n",
       "      <td>754</td>\n",
       "      <td>ES_HdxP3hio</td>\n",
       "    </tr>\n",
       "    <tr>\n",
       "      <td>...</td>\n",
       "      <td>...</td>\n",
       "    </tr>\n",
       "    <tr>\n",
       "      <td>69972027</td>\n",
       "      <td>8t6GeEhIr-Q</td>\n",
       "    </tr>\n",
       "    <tr>\n",
       "      <td>69972250</td>\n",
       "      <td>IueeqJIkYm8</td>\n",
       "    </tr>\n",
       "    <tr>\n",
       "      <td>69972336</td>\n",
       "      <td>OVRkhBzmDq0</td>\n",
       "    </tr>\n",
       "    <tr>\n",
       "      <td>69973947</td>\n",
       "      <td>ZDY9uXuOufU</td>\n",
       "    </tr>\n",
       "    <tr>\n",
       "      <td>69974343</td>\n",
       "      <td>2MsVzw-nWZM</td>\n",
       "    </tr>\n",
       "  </tbody>\n",
       "</table>\n",
       "<p>108010 rows × 1 columns</p>\n",
       "</div>"
      ],
      "text/plain": [
       "           display_id\n",
       "250       XOmPr1feFHU\n",
       "251       1bgkJ52aU5w\n",
       "585       bf58l61iUSs\n",
       "622       29pOl5Y5Ycc\n",
       "754       ES_HdxP3hio\n",
       "...               ...\n",
       "69972027  8t6GeEhIr-Q\n",
       "69972250  IueeqJIkYm8\n",
       "69972336  OVRkhBzmDq0\n",
       "69973947  ZDY9uXuOufU\n",
       "69974343  2MsVzw-nWZM\n",
       "\n",
       "[108010 rows x 1 columns]"
      ]
     },
     "execution_count": 31,
     "metadata": {},
     "output_type": "execute_result"
    }
   ],
   "source": [
    " youtube_df[['display_id']][youtube_df[['display_id']].duplicated()]"
   ]
  },
  {
   "cell_type": "markdown",
   "metadata": {},
   "source": [
    "Sadly no we have originally some duplicates! See example below..."
   ]
  },
  {
   "cell_type": "code",
   "execution_count": 34,
   "metadata": {},
   "outputs": [
    {
     "data": {
      "text/html": [
       "<div>\n",
       "<style scoped>\n",
       "    .dataframe tbody tr th:only-of-type {\n",
       "        vertical-align: middle;\n",
       "    }\n",
       "\n",
       "    .dataframe tbody tr th {\n",
       "        vertical-align: top;\n",
       "    }\n",
       "\n",
       "    .dataframe thead th {\n",
       "        text-align: right;\n",
       "    }\n",
       "</style>\n",
       "<table border=\"1\" class=\"dataframe\">\n",
       "  <thead>\n",
       "    <tr style=\"text-align: right;\">\n",
       "      <th></th>\n",
       "      <th>categories</th>\n",
       "      <th>channel_id</th>\n",
       "      <th>dislike_count</th>\n",
       "      <th>display_id</th>\n",
       "      <th>duration</th>\n",
       "      <th>like_count</th>\n",
       "      <th>upload_date</th>\n",
       "      <th>view_count</th>\n",
       "      <th>categories_raw</th>\n",
       "      <th>top5p_cat</th>\n",
       "      <th>top1p_cat</th>\n",
       "      <th>is_invalid</th>\n",
       "      <th>top5p</th>\n",
       "      <th>top1p</th>\n",
       "    </tr>\n",
       "  </thead>\n",
       "  <tbody>\n",
       "    <tr>\n",
       "      <td>247</td>\n",
       "      <td>Howto &amp; Style</td>\n",
       "      <td>UCsv5Rytct54UTBdSKw2Nh4Q</td>\n",
       "      <td>13</td>\n",
       "      <td>XOmPr1feFHU</td>\n",
       "      <td>262</td>\n",
       "      <td>232</td>\n",
       "      <td>2012-12-22</td>\n",
       "      <td>23484</td>\n",
       "      <td>Howto &amp; Style</td>\n",
       "      <td>False</td>\n",
       "      <td>False</td>\n",
       "      <td>False</td>\n",
       "      <td>False</td>\n",
       "      <td>False</td>\n",
       "    </tr>\n",
       "    <tr>\n",
       "      <td>250</td>\n",
       "      <td>Howto &amp; Style</td>\n",
       "      <td>UCsv5Rytct54UTBdSKw2Nh4Q</td>\n",
       "      <td>13</td>\n",
       "      <td>XOmPr1feFHU</td>\n",
       "      <td>262</td>\n",
       "      <td>232</td>\n",
       "      <td>2012-12-22</td>\n",
       "      <td>23484</td>\n",
       "      <td>Howto &amp; Style</td>\n",
       "      <td>False</td>\n",
       "      <td>False</td>\n",
       "      <td>False</td>\n",
       "      <td>False</td>\n",
       "      <td>False</td>\n",
       "    </tr>\n",
       "  </tbody>\n",
       "</table>\n",
       "</div>"
      ],
      "text/plain": [
       "        categories                channel_id  dislike_count   display_id  \\\n",
       "247  Howto & Style  UCsv5Rytct54UTBdSKw2Nh4Q             13  XOmPr1feFHU   \n",
       "250  Howto & Style  UCsv5Rytct54UTBdSKw2Nh4Q             13  XOmPr1feFHU   \n",
       "\n",
       "     duration  like_count upload_date  view_count categories_raw  top5p_cat  \\\n",
       "247       262         232  2012-12-22       23484  Howto & Style      False   \n",
       "250       262         232  2012-12-22       23484  Howto & Style      False   \n",
       "\n",
       "     top1p_cat  is_invalid  top5p  top1p  \n",
       "247      False       False  False  False  \n",
       "250      False       False  False  False  "
      ]
     },
     "execution_count": 34,
     "metadata": {},
     "output_type": "execute_result"
    }
   ],
   "source": [
    "youtube_df[youtube_df['display_id'] == 'XOmPr1feFHU']\n"
   ]
  },
  {
   "cell_type": "markdown",
   "metadata": {},
   "source": [
    "## Upload Date:"
   ]
  },
  {
   "cell_type": "code",
   "execution_count": 39,
   "metadata": {},
   "outputs": [
    {
     "name": "stdout",
     "output_type": "stream",
     "text": [
      "Info available from 2005-07-14 00:00:00 to 2019-11-20 00:00:00 \n"
     ]
    }
   ],
   "source": [
    "minDate = min(youtube_df['upload_date'])\n",
    "maxDate = max(youtube_df['upload_date'])\n",
    "print(\"Info available from {} to {} \".format(minDate, maxDate))"
   ]
  },
  {
   "cell_type": "markdown",
   "metadata": {},
   "source": [
    "## How many different channels ? "
   ]
  },
  {
   "cell_type": "code",
   "execution_count": 57,
   "metadata": {},
   "outputs": [
    {
     "name": "stdout",
     "output_type": "stream",
     "text": [
      "There are 144794 different channels distributed that way (Some channel may post videos over multiple categories): \n"
     ]
    },
    {
     "data": {
      "text/html": [
       "<div>\n",
       "<style scoped>\n",
       "    .dataframe tbody tr th:only-of-type {\n",
       "        vertical-align: middle;\n",
       "    }\n",
       "\n",
       "    .dataframe tbody tr th {\n",
       "        vertical-align: top;\n",
       "    }\n",
       "\n",
       "    .dataframe thead th {\n",
       "        text-align: right;\n",
       "    }\n",
       "</style>\n",
       "<table border=\"1\" class=\"dataframe\">\n",
       "  <thead>\n",
       "    <tr style=\"text-align: right;\">\n",
       "      <th></th>\n",
       "      <th>nb_of_different_channels</th>\n",
       "    </tr>\n",
       "    <tr>\n",
       "      <th>categories</th>\n",
       "      <th></th>\n",
       "    </tr>\n",
       "  </thead>\n",
       "  <tbody>\n",
       "    <tr>\n",
       "      <td>Entertainment</td>\n",
       "      <td>97286</td>\n",
       "    </tr>\n",
       "    <tr>\n",
       "      <td>Others</td>\n",
       "      <td>56306</td>\n",
       "    </tr>\n",
       "    <tr>\n",
       "      <td>Music</td>\n",
       "      <td>55860</td>\n",
       "    </tr>\n",
       "    <tr>\n",
       "      <td>Education, Science &amp; Tech</td>\n",
       "      <td>32143</td>\n",
       "    </tr>\n",
       "    <tr>\n",
       "      <td>Gaming</td>\n",
       "      <td>31373</td>\n",
       "    </tr>\n",
       "    <tr>\n",
       "      <td>Howto &amp; Style</td>\n",
       "      <td>28869</td>\n",
       "    </tr>\n",
       "    <tr>\n",
       "      <td>News &amp; Politics</td>\n",
       "      <td>11233</td>\n",
       "    </tr>\n",
       "    <tr>\n",
       "      <td></td>\n",
       "      <td>357</td>\n",
       "    </tr>\n",
       "  </tbody>\n",
       "</table>\n",
       "</div>"
      ],
      "text/plain": [
       "                           nb_of_different_channels\n",
       "categories                                         \n",
       "Entertainment                                 97286\n",
       "Others                                        56306\n",
       "Music                                         55860\n",
       "Education, Science & Tech                     32143\n",
       "Gaming                                        31373\n",
       "Howto & Style                                 28869\n",
       "News & Politics                               11233\n",
       "                                                357"
      ]
     },
     "execution_count": 57,
     "metadata": {},
     "output_type": "execute_result"
    }
   ],
   "source": [
    "nbOfChannels = len(youtube_df['channel_id'].unique())\n",
    "print(\"There are {} different channels distributed that way (Some channel may post videos over multiple categories): \".format(nbOfChannels))\n",
    "\n",
    "\n",
    "channelPerCatDF = youtube_df[['categories','channel_id']].drop_duplicates().groupby('categories').count()\n",
    "channelPerCatDF.columns = [\"nb_of_different_channels\"]\n",
    "channelPerCatDF.sort_values(by=['nb_of_different_channels'],ascending=False)\n"
   ]
  },
  {
   "cell_type": "markdown",
   "metadata": {},
   "source": [
    "## RECAP"
   ]
  },
  {
   "cell_type": "markdown",
   "metadata": {},
   "source": [
    "Recap: \n",
    "* display_id not necessary unique => filter\n",
    "* categories and categories_raw seems to be identical => drop a column\n",
    "* is_invalid: True si la vidéo n'est pas en anglais (en gros à filter, mais je crois que c'est déjà le cas)\n",
    "* topxp: Cette vidéo est dans le top x % global (en nombre de vue) sur une période de 6 mois. Il y a la même chose avec _y pour chaque année\n",
    "* topxp_cat: la même chose mais avec un group by catégories (top x % dans la catégorie de la vidéo, vu que le nombre de vues par catégorie n'est pas distribué uniformément)\n",
    "\n",
    "2-3 petites questions: comment ca a été calculé les tops 5,1 par catégories et sans catégories ? Pourquoi c'est nécéssairement sur une période de 6 mois de  jan - juin, juillet - déc. Est-ce possible d'avoir une vidéo qui aurait pu etre dans le top si ca avait été comtabilisé de la période avril-septembre et octobre-mars à la place ? \n"
   ]
  },
  {
   "cell_type": "markdown",
   "metadata": {},
   "source": [
    "## QUE FAIRE ?? "
   ]
  },
  {
   "cell_type": "code",
   "execution_count": null,
   "metadata": {},
   "outputs": [],
   "source": []
  }
 ],
 "metadata": {
  "kernelspec": {
   "display_name": "Python 3",
   "language": "python",
   "name": "python3"
  },
  "language_info": {
   "codemirror_mode": {
    "name": "ipython",
    "version": 3
   },
   "file_extension": ".py",
   "mimetype": "text/x-python",
   "name": "python",
   "nbconvert_exporter": "python",
   "pygments_lexer": "ipython3",
   "version": "3.7.4"
  }
 },
 "nbformat": 4,
 "nbformat_minor": 2
}
