{
 "cells": [
  {
   "cell_type": "code",
   "execution_count": 1,
   "metadata": {},
   "outputs": [],
   "source": [
    "import matplotlib.pyplot as plt\n",
    "import pandas as pd\n",
    "import numpy as np\n",
    "import matplotlib.pyplot as plt\n",
    "%matplotlib inline\n",
    "pd.options.mode.chained_assignment = None "
   ]
  },
  {
   "cell_type": "markdown",
   "metadata": {},
   "source": [
    "# 1. Dataset Exploration\n",
    "## 1.1 How does the dataset looks like ? "
   ]
  },
  {
   "cell_type": "code",
   "execution_count": 2,
   "metadata": {},
   "outputs": [
    {
     "data": {
      "text/html": [
       "<div>\n",
       "<style scoped>\n",
       "    .dataframe tbody tr th:only-of-type {\n",
       "        vertical-align: middle;\n",
       "    }\n",
       "\n",
       "    .dataframe tbody tr th {\n",
       "        vertical-align: top;\n",
       "    }\n",
       "\n",
       "    .dataframe thead th {\n",
       "        text-align: right;\n",
       "    }\n",
       "</style>\n",
       "<table border=\"1\" class=\"dataframe\">\n",
       "  <thead>\n",
       "    <tr style=\"text-align: right;\">\n",
       "      <th></th>\n",
       "      <th>categories</th>\n",
       "      <th>channel_id</th>\n",
       "      <th>dislike_count</th>\n",
       "      <th>display_id</th>\n",
       "      <th>duration</th>\n",
       "      <th>like_count</th>\n",
       "      <th>upload_date</th>\n",
       "      <th>view_count</th>\n",
       "      <th>categories_raw</th>\n",
       "      <th>top5p_cat</th>\n",
       "      <th>top1p_cat</th>\n",
       "      <th>is_invalid</th>\n",
       "      <th>top5p</th>\n",
       "      <th>top1p</th>\n",
       "    </tr>\n",
       "  </thead>\n",
       "  <tbody>\n",
       "    <tr>\n",
       "      <th>0</th>\n",
       "      <td>Music</td>\n",
       "      <td>UCsv6iJMuTZc8-zs3V2Z9B6w</td>\n",
       "      <td>0</td>\n",
       "      <td>uKGGM22X8Qs</td>\n",
       "      <td>429</td>\n",
       "      <td>4</td>\n",
       "      <td>2019-09-12</td>\n",
       "      <td>194</td>\n",
       "      <td>Music</td>\n",
       "      <td>False</td>\n",
       "      <td>False</td>\n",
       "      <td>False</td>\n",
       "      <td>False</td>\n",
       "      <td>False</td>\n",
       "    </tr>\n",
       "    <tr>\n",
       "      <th>1</th>\n",
       "      <td>Music</td>\n",
       "      <td>UCsv6iJMuTZc8-zs3V2Z9B6w</td>\n",
       "      <td>11</td>\n",
       "      <td>jzBaT9_h0aw</td>\n",
       "      <td>377</td>\n",
       "      <td>44</td>\n",
       "      <td>2019-06-20</td>\n",
       "      <td>2668</td>\n",
       "      <td>Music</td>\n",
       "      <td>False</td>\n",
       "      <td>False</td>\n",
       "      <td>False</td>\n",
       "      <td>False</td>\n",
       "      <td>False</td>\n",
       "    </tr>\n",
       "    <tr>\n",
       "      <th>2</th>\n",
       "      <td>Music</td>\n",
       "      <td>UCsv6iJMuTZc8-zs3V2Z9B6w</td>\n",
       "      <td>6</td>\n",
       "      <td>giozLk4q51A</td>\n",
       "      <td>295</td>\n",
       "      <td>66</td>\n",
       "      <td>2019-05-02</td>\n",
       "      <td>4350</td>\n",
       "      <td>Music</td>\n",
       "      <td>False</td>\n",
       "      <td>False</td>\n",
       "      <td>False</td>\n",
       "      <td>False</td>\n",
       "      <td>False</td>\n",
       "    </tr>\n",
       "    <tr>\n",
       "      <th>3</th>\n",
       "      <td>Music</td>\n",
       "      <td>UCsv6iJMuTZc8-zs3V2Z9B6w</td>\n",
       "      <td>0</td>\n",
       "      <td>df4qDGsSDdg</td>\n",
       "      <td>338</td>\n",
       "      <td>5</td>\n",
       "      <td>2018-03-04</td>\n",
       "      <td>138</td>\n",
       "      <td>Music</td>\n",
       "      <td>False</td>\n",
       "      <td>False</td>\n",
       "      <td>False</td>\n",
       "      <td>False</td>\n",
       "      <td>False</td>\n",
       "    </tr>\n",
       "    <tr>\n",
       "      <th>4</th>\n",
       "      <td>Music</td>\n",
       "      <td>UCsv6iJMuTZc8-zs3V2Z9B6w</td>\n",
       "      <td>0</td>\n",
       "      <td>MNW-OvHFibs</td>\n",
       "      <td>334</td>\n",
       "      <td>9</td>\n",
       "      <td>2018-03-04</td>\n",
       "      <td>329</td>\n",
       "      <td>Music</td>\n",
       "      <td>False</td>\n",
       "      <td>False</td>\n",
       "      <td>False</td>\n",
       "      <td>False</td>\n",
       "      <td>False</td>\n",
       "    </tr>\n",
       "  </tbody>\n",
       "</table>\n",
       "</div>"
      ],
      "text/plain": [
       "  categories                channel_id  dislike_count   display_id  duration  \\\n",
       "0      Music  UCsv6iJMuTZc8-zs3V2Z9B6w              0  uKGGM22X8Qs       429   \n",
       "1      Music  UCsv6iJMuTZc8-zs3V2Z9B6w             11  jzBaT9_h0aw       377   \n",
       "2      Music  UCsv6iJMuTZc8-zs3V2Z9B6w              6  giozLk4q51A       295   \n",
       "3      Music  UCsv6iJMuTZc8-zs3V2Z9B6w              0  df4qDGsSDdg       338   \n",
       "4      Music  UCsv6iJMuTZc8-zs3V2Z9B6w              0  MNW-OvHFibs       334   \n",
       "\n",
       "   like_count upload_date  view_count categories_raw  top5p_cat  top1p_cat  \\\n",
       "0           4  2019-09-12         194          Music      False      False   \n",
       "1          44  2019-06-20        2668          Music      False      False   \n",
       "2          66  2019-05-02        4350          Music      False      False   \n",
       "3           5  2018-03-04         138          Music      False      False   \n",
       "4           9  2018-03-04         329          Music      False      False   \n",
       "\n",
       "   is_invalid  top5p  top1p  \n",
       "0       False  False  False  \n",
       "1       False  False  False  \n",
       "2       False  False  False  \n",
       "3       False  False  False  \n",
       "4       False  False  False  "
      ]
     },
     "execution_count": 2,
     "metadata": {},
     "output_type": "execute_result"
    }
   ],
   "source": [
    "youtube_df = pd.read_feather(\"../data/youtube_big.feather\")\n",
    "youtube_df.head()"
   ]
  },
  {
   "cell_type": "code",
   "execution_count": 3,
   "metadata": {},
   "outputs": [
    {
     "data": {
      "text/plain": [
       "categories        0\n",
       "channel_id        0\n",
       "dislike_count     0\n",
       "display_id        0\n",
       "duration          0\n",
       "like_count        0\n",
       "upload_date       0\n",
       "view_count        0\n",
       "categories_raw    0\n",
       "top5p_cat         0\n",
       "top1p_cat         0\n",
       "is_invalid        0\n",
       "top5p             0\n",
       "top1p             0\n",
       "dtype: int64"
      ]
     },
     "execution_count": 3,
     "metadata": {},
     "output_type": "execute_result"
    }
   ],
   "source": [
    "youtube_df.isnull().sum()"
   ]
  },
  {
   "cell_type": "code",
   "execution_count": 4,
   "metadata": {},
   "outputs": [
    {
     "data": {
      "text/plain": [
       "69901917"
      ]
     },
     "execution_count": 4,
     "metadata": {},
     "output_type": "execute_result"
    }
   ],
   "source": [
    "len(youtube_df)"
   ]
  },
  {
   "cell_type": "markdown",
   "metadata": {},
   "source": [
    "**So we have about 70mio of lines with no null values**"
   ]
  },
  {
   "cell_type": "markdown",
   "metadata": {},
   "source": [
    "## 1.2 What are the categories ? "
   ]
  },
  {
   "cell_type": "code",
   "execution_count": 5,
   "metadata": {},
   "outputs": [
    {
     "data": {
      "text/html": [
       "<div>\n",
       "<style scoped>\n",
       "    .dataframe tbody tr th:only-of-type {\n",
       "        vertical-align: middle;\n",
       "    }\n",
       "\n",
       "    .dataframe tbody tr th {\n",
       "        vertical-align: top;\n",
       "    }\n",
       "\n",
       "    .dataframe thead th {\n",
       "        text-align: right;\n",
       "    }\n",
       "</style>\n",
       "<table border=\"1\" class=\"dataframe\">\n",
       "  <thead>\n",
       "    <tr style=\"text-align: right;\">\n",
       "      <th></th>\n",
       "      <th>nb_of_video_per_categories</th>\n",
       "    </tr>\n",
       "    <tr>\n",
       "      <th>categories</th>\n",
       "      <th></th>\n",
       "    </tr>\n",
       "  </thead>\n",
       "  <tbody>\n",
       "    <tr>\n",
       "      <th>Entertainment</th>\n",
       "      <td>19870371</td>\n",
       "    </tr>\n",
       "    <tr>\n",
       "      <th>Gaming</th>\n",
       "      <td>12681265</td>\n",
       "    </tr>\n",
       "    <tr>\n",
       "      <th>Others</th>\n",
       "      <td>10588948</td>\n",
       "    </tr>\n",
       "    <tr>\n",
       "      <th>News &amp; Politics</th>\n",
       "      <td>9024146</td>\n",
       "    </tr>\n",
       "    <tr>\n",
       "      <th>Music</th>\n",
       "      <td>8231523</td>\n",
       "    </tr>\n",
       "    <tr>\n",
       "      <th>Education, Science &amp; Tech</th>\n",
       "      <td>5886668</td>\n",
       "    </tr>\n",
       "    <tr>\n",
       "      <th>Howto &amp; Style</th>\n",
       "      <td>3618007</td>\n",
       "    </tr>\n",
       "    <tr>\n",
       "      <th></th>\n",
       "      <td>989</td>\n",
       "    </tr>\n",
       "  </tbody>\n",
       "</table>\n",
       "</div>"
      ],
      "text/plain": [
       "                           nb_of_video_per_categories\n",
       "categories                                           \n",
       "Entertainment                                19870371\n",
       "Gaming                                       12681265\n",
       "Others                                       10588948\n",
       "News & Politics                               9024146\n",
       "Music                                         8231523\n",
       "Education, Science & Tech                     5886668\n",
       "Howto & Style                                 3618007\n",
       "                                                  989"
      ]
     },
     "execution_count": 5,
     "metadata": {},
     "output_type": "execute_result"
    }
   ],
   "source": [
    "categoriesCount = youtube_df[['categories','channel_id']].groupby('categories').count()\n",
    "categoriesCount.columns = ['nb_of_video_per_categories']\n",
    "categoriesCount.sort_values(by=['nb_of_video_per_categories'],ascending=False)"
   ]
  },
  {
   "cell_type": "markdown",
   "metadata": {},
   "source": [
    "We have 7 different named categories. There appears to be 989 rows that have no associated categories"
   ]
  },
  {
   "cell_type": "markdown",
   "metadata": {},
   "source": [
    "## 1.3 What are categories_raw ? "
   ]
  },
  {
   "cell_type": "code",
   "execution_count": 6,
   "metadata": {},
   "outputs": [
    {
     "data": {
      "text/html": [
       "<div>\n",
       "<style scoped>\n",
       "    .dataframe tbody tr th:only-of-type {\n",
       "        vertical-align: middle;\n",
       "    }\n",
       "\n",
       "    .dataframe tbody tr th {\n",
       "        vertical-align: top;\n",
       "    }\n",
       "\n",
       "    .dataframe thead th {\n",
       "        text-align: right;\n",
       "    }\n",
       "</style>\n",
       "<table border=\"1\" class=\"dataframe\">\n",
       "  <thead>\n",
       "    <tr style=\"text-align: right;\">\n",
       "      <th></th>\n",
       "      <th>count</th>\n",
       "    </tr>\n",
       "    <tr>\n",
       "      <th>categories_raw</th>\n",
       "      <th></th>\n",
       "    </tr>\n",
       "  </thead>\n",
       "  <tbody>\n",
       "    <tr>\n",
       "      <th></th>\n",
       "      <td>989</td>\n",
       "    </tr>\n",
       "    <tr>\n",
       "      <th>Education, Science &amp; Tech</th>\n",
       "      <td>5886668</td>\n",
       "    </tr>\n",
       "    <tr>\n",
       "      <th>Entertainment</th>\n",
       "      <td>19870371</td>\n",
       "    </tr>\n",
       "    <tr>\n",
       "      <th>Gaming</th>\n",
       "      <td>12681265</td>\n",
       "    </tr>\n",
       "    <tr>\n",
       "      <th>Howto &amp; Style</th>\n",
       "      <td>3618007</td>\n",
       "    </tr>\n",
       "    <tr>\n",
       "      <th>Music</th>\n",
       "      <td>8231523</td>\n",
       "    </tr>\n",
       "    <tr>\n",
       "      <th>News &amp; Politics</th>\n",
       "      <td>9024146</td>\n",
       "    </tr>\n",
       "    <tr>\n",
       "      <th>Others</th>\n",
       "      <td>10588948</td>\n",
       "    </tr>\n",
       "  </tbody>\n",
       "</table>\n",
       "</div>"
      ],
      "text/plain": [
       "                              count\n",
       "categories_raw                     \n",
       "                                989\n",
       "Education, Science & Tech   5886668\n",
       "Entertainment              19870371\n",
       "Gaming                     12681265\n",
       "Howto & Style               3618007\n",
       "Music                       8231523\n",
       "News & Politics             9024146\n",
       "Others                     10588948"
      ]
     },
     "execution_count": 6,
     "metadata": {},
     "output_type": "execute_result"
    }
   ],
   "source": [
    "categoriesRawCount = youtube_df[['categories_raw','channel_id']].groupby('categories_raw').count()\n",
    "categoriesRawCount.columns = ['count']\n",
    "categoriesRawCount"
   ]
  },
  {
   "cell_type": "markdown",
   "metadata": {},
   "source": [
    "Seems to be exactly the same than the column \"categories\"..."
   ]
  },
  {
   "cell_type": "markdown",
   "metadata": {},
   "source": [
    "## 1.4 Are the display_id really unique ? "
   ]
  },
  {
   "cell_type": "code",
   "execution_count": 7,
   "metadata": {},
   "outputs": [
    {
     "data": {
      "text/html": [
       "<div>\n",
       "<style scoped>\n",
       "    .dataframe tbody tr th:only-of-type {\n",
       "        vertical-align: middle;\n",
       "    }\n",
       "\n",
       "    .dataframe tbody tr th {\n",
       "        vertical-align: top;\n",
       "    }\n",
       "\n",
       "    .dataframe thead th {\n",
       "        text-align: right;\n",
       "    }\n",
       "</style>\n",
       "<table border=\"1\" class=\"dataframe\">\n",
       "  <thead>\n",
       "    <tr style=\"text-align: right;\">\n",
       "      <th></th>\n",
       "      <th>display_id</th>\n",
       "    </tr>\n",
       "  </thead>\n",
       "  <tbody>\n",
       "    <tr>\n",
       "      <th>250</th>\n",
       "      <td>XOmPr1feFHU</td>\n",
       "    </tr>\n",
       "    <tr>\n",
       "      <th>251</th>\n",
       "      <td>1bgkJ52aU5w</td>\n",
       "    </tr>\n",
       "    <tr>\n",
       "      <th>585</th>\n",
       "      <td>bf58l61iUSs</td>\n",
       "    </tr>\n",
       "    <tr>\n",
       "      <th>622</th>\n",
       "      <td>29pOl5Y5Ycc</td>\n",
       "    </tr>\n",
       "    <tr>\n",
       "      <th>754</th>\n",
       "      <td>ES_HdxP3hio</td>\n",
       "    </tr>\n",
       "    <tr>\n",
       "      <th>...</th>\n",
       "      <td>...</td>\n",
       "    </tr>\n",
       "    <tr>\n",
       "      <th>69899184</th>\n",
       "      <td>8t6GeEhIr-Q</td>\n",
       "    </tr>\n",
       "    <tr>\n",
       "      <th>69899407</th>\n",
       "      <td>IueeqJIkYm8</td>\n",
       "    </tr>\n",
       "    <tr>\n",
       "      <th>69899493</th>\n",
       "      <td>OVRkhBzmDq0</td>\n",
       "    </tr>\n",
       "    <tr>\n",
       "      <th>69901104</th>\n",
       "      <td>ZDY9uXuOufU</td>\n",
       "    </tr>\n",
       "    <tr>\n",
       "      <th>69901500</th>\n",
       "      <td>2MsVzw-nWZM</td>\n",
       "    </tr>\n",
       "  </tbody>\n",
       "</table>\n",
       "<p>107989 rows × 1 columns</p>\n",
       "</div>"
      ],
      "text/plain": [
       "           display_id\n",
       "250       XOmPr1feFHU\n",
       "251       1bgkJ52aU5w\n",
       "585       bf58l61iUSs\n",
       "622       29pOl5Y5Ycc\n",
       "754       ES_HdxP3hio\n",
       "...               ...\n",
       "69899184  8t6GeEhIr-Q\n",
       "69899407  IueeqJIkYm8\n",
       "69899493  OVRkhBzmDq0\n",
       "69901104  ZDY9uXuOufU\n",
       "69901500  2MsVzw-nWZM\n",
       "\n",
       "[107989 rows x 1 columns]"
      ]
     },
     "execution_count": 7,
     "metadata": {},
     "output_type": "execute_result"
    }
   ],
   "source": [
    " youtube_df[['display_id']][youtube_df[['display_id']].duplicated()]"
   ]
  },
  {
   "cell_type": "markdown",
   "metadata": {},
   "source": [
    "Sadly no we have originally some duplicates! See example below..."
   ]
  },
  {
   "cell_type": "code",
   "execution_count": 8,
   "metadata": {},
   "outputs": [
    {
     "data": {
      "text/html": [
       "<div>\n",
       "<style scoped>\n",
       "    .dataframe tbody tr th:only-of-type {\n",
       "        vertical-align: middle;\n",
       "    }\n",
       "\n",
       "    .dataframe tbody tr th {\n",
       "        vertical-align: top;\n",
       "    }\n",
       "\n",
       "    .dataframe thead th {\n",
       "        text-align: right;\n",
       "    }\n",
       "</style>\n",
       "<table border=\"1\" class=\"dataframe\">\n",
       "  <thead>\n",
       "    <tr style=\"text-align: right;\">\n",
       "      <th></th>\n",
       "      <th>categories</th>\n",
       "      <th>channel_id</th>\n",
       "      <th>dislike_count</th>\n",
       "      <th>display_id</th>\n",
       "      <th>duration</th>\n",
       "      <th>like_count</th>\n",
       "      <th>upload_date</th>\n",
       "      <th>view_count</th>\n",
       "      <th>categories_raw</th>\n",
       "      <th>top5p_cat</th>\n",
       "      <th>top1p_cat</th>\n",
       "      <th>is_invalid</th>\n",
       "      <th>top5p</th>\n",
       "      <th>top1p</th>\n",
       "    </tr>\n",
       "  </thead>\n",
       "  <tbody>\n",
       "    <tr>\n",
       "      <th>247</th>\n",
       "      <td>Howto &amp; Style</td>\n",
       "      <td>UCsv5Rytct54UTBdSKw2Nh4Q</td>\n",
       "      <td>13</td>\n",
       "      <td>XOmPr1feFHU</td>\n",
       "      <td>262</td>\n",
       "      <td>232</td>\n",
       "      <td>2012-12-22</td>\n",
       "      <td>23484</td>\n",
       "      <td>Howto &amp; Style</td>\n",
       "      <td>False</td>\n",
       "      <td>False</td>\n",
       "      <td>False</td>\n",
       "      <td>False</td>\n",
       "      <td>False</td>\n",
       "    </tr>\n",
       "    <tr>\n",
       "      <th>250</th>\n",
       "      <td>Howto &amp; Style</td>\n",
       "      <td>UCsv5Rytct54UTBdSKw2Nh4Q</td>\n",
       "      <td>13</td>\n",
       "      <td>XOmPr1feFHU</td>\n",
       "      <td>262</td>\n",
       "      <td>232</td>\n",
       "      <td>2012-12-22</td>\n",
       "      <td>23484</td>\n",
       "      <td>Howto &amp; Style</td>\n",
       "      <td>False</td>\n",
       "      <td>False</td>\n",
       "      <td>False</td>\n",
       "      <td>False</td>\n",
       "      <td>False</td>\n",
       "    </tr>\n",
       "  </tbody>\n",
       "</table>\n",
       "</div>"
      ],
      "text/plain": [
       "        categories                channel_id  dislike_count   display_id  \\\n",
       "247  Howto & Style  UCsv5Rytct54UTBdSKw2Nh4Q             13  XOmPr1feFHU   \n",
       "250  Howto & Style  UCsv5Rytct54UTBdSKw2Nh4Q             13  XOmPr1feFHU   \n",
       "\n",
       "     duration  like_count upload_date  view_count categories_raw  top5p_cat  \\\n",
       "247       262         232  2012-12-22       23484  Howto & Style      False   \n",
       "250       262         232  2012-12-22       23484  Howto & Style      False   \n",
       "\n",
       "     top1p_cat  is_invalid  top5p  top1p  \n",
       "247      False       False  False  False  \n",
       "250      False       False  False  False  "
      ]
     },
     "execution_count": 8,
     "metadata": {},
     "output_type": "execute_result"
    }
   ],
   "source": [
    "youtube_df[youtube_df['display_id'] == 'XOmPr1feFHU']\n"
   ]
  },
  {
   "cell_type": "markdown",
   "metadata": {},
   "source": [
    "## 1.5 Upload Date:"
   ]
  },
  {
   "cell_type": "code",
   "execution_count": 17,
   "metadata": {},
   "outputs": [
    {
     "name": "stdout",
     "output_type": "stream",
     "text": [
      "Info available from 2005-07-14 00:00:00 to 2019-11-20 00:00:00 \n"
     ]
    }
   ],
   "source": [
    "print(\"Info available from {} to {} \".format(*youtube_df.upload_date.agg({'min', 'max'})))"
   ]
  },
  {
   "cell_type": "markdown",
   "metadata": {},
   "source": [
    "## 1.6 How many different channels ? "
   ]
  },
  {
   "cell_type": "code",
   "execution_count": 10,
   "metadata": {},
   "outputs": [
    {
     "name": "stdout",
     "output_type": "stream",
     "text": [
      "There are 144438 different channels distributed that way (Some channel may post videos over multiple categories): \n"
     ]
    },
    {
     "data": {
      "text/html": [
       "<div>\n",
       "<style scoped>\n",
       "    .dataframe tbody tr th:only-of-type {\n",
       "        vertical-align: middle;\n",
       "    }\n",
       "\n",
       "    .dataframe tbody tr th {\n",
       "        vertical-align: top;\n",
       "    }\n",
       "\n",
       "    .dataframe thead th {\n",
       "        text-align: right;\n",
       "    }\n",
       "</style>\n",
       "<table border=\"1\" class=\"dataframe\">\n",
       "  <thead>\n",
       "    <tr style=\"text-align: right;\">\n",
       "      <th></th>\n",
       "      <th>nb_of_different_channels</th>\n",
       "    </tr>\n",
       "    <tr>\n",
       "      <th>categories</th>\n",
       "      <th></th>\n",
       "    </tr>\n",
       "  </thead>\n",
       "  <tbody>\n",
       "    <tr>\n",
       "      <th>Entertainment</th>\n",
       "      <td>96976</td>\n",
       "    </tr>\n",
       "    <tr>\n",
       "      <th>Others</th>\n",
       "      <td>56171</td>\n",
       "    </tr>\n",
       "    <tr>\n",
       "      <th>Music</th>\n",
       "      <td>55780</td>\n",
       "    </tr>\n",
       "    <tr>\n",
       "      <th>Education, Science &amp; Tech</th>\n",
       "      <td>32069</td>\n",
       "    </tr>\n",
       "    <tr>\n",
       "      <th>Gaming</th>\n",
       "      <td>31320</td>\n",
       "    </tr>\n",
       "    <tr>\n",
       "      <th>Howto &amp; Style</th>\n",
       "      <td>28805</td>\n",
       "    </tr>\n",
       "    <tr>\n",
       "      <th>News &amp; Politics</th>\n",
       "      <td>11201</td>\n",
       "    </tr>\n",
       "    <tr>\n",
       "      <th></th>\n",
       "      <td>357</td>\n",
       "    </tr>\n",
       "  </tbody>\n",
       "</table>\n",
       "</div>"
      ],
      "text/plain": [
       "                           nb_of_different_channels\n",
       "categories                                         \n",
       "Entertainment                                 96976\n",
       "Others                                        56171\n",
       "Music                                         55780\n",
       "Education, Science & Tech                     32069\n",
       "Gaming                                        31320\n",
       "Howto & Style                                 28805\n",
       "News & Politics                               11201\n",
       "                                                357"
      ]
     },
     "execution_count": 10,
     "metadata": {},
     "output_type": "execute_result"
    }
   ],
   "source": [
    "nbOfChannels = len(youtube_df['channel_id'].unique())\n",
    "print(\"There are {} different channels distributed that way (Some channel may post videos over multiple categories): \".format(nbOfChannels))\n",
    "\n",
    "\n",
    "channelPerCatDF = youtube_df[['categories','channel_id']].drop_duplicates().groupby('categories').count()\n",
    "channelPerCatDF.columns = [\"nb_of_different_channels\"]\n",
    "channelPerCatDF.sort_values(by=['nb_of_different_channels'],ascending=False)\n"
   ]
  },
  {
   "cell_type": "markdown",
   "metadata": {},
   "source": [
    "## 1.7 Is_invalid distribution\n",
    "is_invalid is true if the video isn't actually in english. In this dataframe, they shall already have been filtered out"
   ]
  },
  {
   "cell_type": "code",
   "execution_count": 11,
   "metadata": {},
   "outputs": [
    {
     "data": {
      "text/plain": [
       "False    69901917\n",
       "Name: is_invalid, dtype: int64"
      ]
     },
     "execution_count": 11,
     "metadata": {},
     "output_type": "execute_result"
    }
   ],
   "source": [
    "youtube_df.is_invalid.value_counts()"
   ]
  },
  {
   "cell_type": "markdown",
   "metadata": {},
   "source": [
    "## 1.8 Recap"
   ]
  },
  {
   "cell_type": "markdown",
   "metadata": {},
   "source": [
    "Recap: \n",
    "* a few videos don't have an assigned categories. As it represents roughly 0.01% we can ignore them. \n",
    "* display_id not necessary unique => need to remove duplicates\n",
    "* categories and categories_raw seems to be identical => drop a column\n",
    "* is_invalid: could drop this column too as this dataframe contains only english videos.\n",
    "\n",
    "Note on other columns, those are computed value (and could be recomputed if necessary):\n",
    "* topxp: This video is in the top x% global (in raw view count) over a 6-month period (Jan-June, Jul-Dec).\n",
    "* topxp_cat: Same idea but grouped by categories (as the number of videos and views per categorie aren't distributed uniformly)\n",
    "\n",
    "**Note:** We can imagine recomputing such statistics to a finer grain level depending on the visualizaiton needs"
   ]
  },
  {
   "cell_type": "markdown",
   "metadata": {},
   "source": [
    "# 2. Some plots of the distributions"
   ]
  },
  {
   "cell_type": "code",
   "execution_count": 12,
   "metadata": {},
   "outputs": [],
   "source": [
    "year_df = youtube_df.groupby(youtube_df.upload_date.dt.year).display_id.count()"
   ]
  },
  {
   "cell_type": "code",
   "execution_count": 13,
   "metadata": {},
   "outputs": [
    {
     "data": {
      "image/png": "[encoded data removed]",
      "text/plain": [
       "<Figure size 720x576 with 1 Axes>"
      ]
     },
     "metadata": {
      "needs_background": "light"
     },
     "output_type": "display_data"
    }
   ],
   "source": [
    "fig, ax = plt.subplots(figsize=(10, 8))\n",
    "year_df.plot(ax=ax, style='.-')\n",
    "ax.set_title('Number of videos per year')\n",
    "ax.set_xlabel('Upload year')\n",
    "ax.set_ylabel('Number of videos')\n",
    "plt.show()"
   ]
  },
  {
   "cell_type": "markdown",
   "metadata": {},
   "source": [
    "Note that the collection stopped in november 19, so we miss ~10% of the data for 2019"
   ]
  },
  {
   "cell_type": "code",
   "execution_count": 14,
   "metadata": {},
   "outputs": [],
   "source": [
    "cat_df = youtube_df[youtube_df.categories != ''].groupby('categories').display_id.count()"
   ]
  },
  {
   "cell_type": "code",
   "execution_count": 15,
   "metadata": {},
   "outputs": [
    {
     "data": {
      "image/png": "[encoded data removed]",
      "text/plain": [
       "<Figure size 720x576 with 1 Axes>"
      ]
     },
     "metadata": {
      "needs_background": "light"
     },
     "output_type": "display_data"
    }
   ],
   "source": [
    "fig, ax = plt.subplots(figsize=(10, 8))\n",
    "cat_df.plot(ax=ax, kind='bar')\n",
    "ax.set_title('Number of videos per categories (over all years)')\n",
    "ax.set_xlabel('Category')\n",
    "ax.set_ylabel('Number of videos')\n",
    "plt.show()"
   ]
  },
  {
   "cell_type": "code",
   "execution_count": 16,
   "metadata": {},
   "outputs": [
    {
     "data": {
      "image/png": "[encoded data removed]",
      "text/plain": [
       "<Figure size 720x576 with 1 Axes>"
      ]
     },
     "metadata": {
      "needs_background": "light"
     },
     "output_type": "display_data"
    }
   ],
   "source": [
    "fig, ax = plt.subplots(figsize=(10, 8))\n",
    "youtube_df.duration.hist(bins=20, log=True)\n",
    "ax.set_title('Videos duration distribution')\n",
    "ax.set_xlabel('Duration [sec]')\n",
    "ax.set_ylabel('Number of videos (log scale)')\n",
    "plt.show()"
   ]
  },
  {
   "cell_type": "markdown",
   "metadata": {},
   "source": [
    "# 3. What can we do with this data? "
   ]
  },
  {
   "cell_type": "markdown",
   "metadata": {},
   "source": [
    "Along what is currently proposed in the original research (see 1.4 Related Work in the readme), we also propose our own approach to enrich the work and, as a reminder, aim at understanding **How the content evoloved on YouTube this last 15 years?**:\n",
    "* What are the kinds of content and formats that prospered on YouTube through the years?\n",
    "* How have content creation practices changed through years on YouTube? What are the most revealing channels / videos of those trends?\n",
    "\n",
    "We propose here a rough (early) draft of some visualizations we may want to use to answer these questions (This will be formalized by Milestone 2)"
   ]
  },
  {
   "cell_type": "markdown",
   "metadata": {},
   "source": [
    "<img src=\"../resources/img/image_ideas.jpg\">"
   ]
  },
  {
   "cell_type": "markdown",
   "metadata": {},
   "source": [
    "### 1) Popular categories over time\n",
    "\n",
    "We would like to present a such graph which represents a ratio for our 7 categories (Entertainment, Gaming, Others, News & Politics, Music, Education, Science & Tech, Howto & Style) and those that have been the most important over time. \n",
    "\n",
    "To calculate the most important categories, it will be a function of the number of like/dislike videos, the number of views, the date and the category. (for example, we could count +1 for a video seen, -1 for a video seen and not liked and +2 for a video seen and liked. Additional research of litterature and consultation with the PhD student will also be approached, as well as the idea of a weighting scheme as the all videos / channel on YouTube are not created equal).\n",
    "\n",
    "We propose that the visual dynamical interaction is such that dragging the mouse over the graph make appears at the bottom the information **(2.a)**, and that clicking on the graph will make appear the information **(3)**. The user could also be able to select a time frame to analyze (typically move a cursor below the graph)"
   ]
  },
  {
   "cell_type": "markdown",
   "metadata": {},
   "source": [
    "### 2.a) An overview of the top videos\n",
    "Using the same formula we used to rank the categories over time, we select the 5 most important videos at that time over all categories (the videos that have the highest score) and we display them. There should be a line for each video with the some data (category, channel, bar showing nb of like/dislike) duration, picture, link to youtube,...)."
   ]
  },
  {
   "cell_type": "markdown",
   "metadata": {},
   "source": [
    "### 3) The subgraph for a particular category of media\n",
    "Since clicking on the **(1)** graph on a particular category make appears this graph, it should display only informations about the particular selected category. \n",
    "This graph has as title the category selected, and below it a clickable segment (**(4)**) that will display different kind of information for this category. We can imagine to have: \n",
    "* A duration button: clicking on it will make appear a simple graph that show the average duration of the videos over time for this category.\n",
    "* A ranking button: will display a bar graph that shows, according to the formula used to compute **(1)**, the ranking of this category overtime. (I propose that going on hover this graph will show the ranking of all categories at that time.)\n",
    "* A view button that will show a graph (same kind that **(1)** ) that display the number of like, dislike, and average view for this category over time. Clicking on the green part will hilight it, same for the red or gray part. Depending on the selected part of the graph, we will display **(2.c), (2.d) or 2.e)**\n",
    "* A Most popular channel button: can display the most popular channel over time for this category.\n",
    "* ..."
   ]
  },
  {
   "cell_type": "markdown",
   "metadata": {},
   "source": [
    "### 2.b)\n",
    "Exactly the same that **(2.a)** but display only the videos for this category. "
   ]
  },
  {
   "cell_type": "markdown",
   "metadata": {},
   "source": [
    "### 2.c), 2.d), 2.e)\n",
    "With the same interface type that **(2.a) and (2.b)**, theses subwindows will respectively display: \n",
    "* (2.c) The most liked videos for a particular category over time\n",
    "* (2.d)The most hated videos for a particular category over time\n",
    "* (2.e)The most viewed videos for a particular category over time"
   ]
  }
 ],
 "metadata": {
  "kernelspec": {
   "display_name": "Python 3",
   "language": "python",
   "name": "python3"
  },
  "language_info": {
   "codemirror_mode": {
    "name": "ipython",
    "version": 3
   },
   "file_extension": ".py",
   "mimetype": "text/x-python",
   "name": "python",
   "nbconvert_exporter": "python",
   "pygments_lexer": "ipython3",
   "version": "3.7.6"
  }
 },
 "nbformat": 4,
 "nbformat_minor": 4
}
